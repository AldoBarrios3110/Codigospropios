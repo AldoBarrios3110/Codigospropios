{
  "nbformat": 4,
  "nbformat_minor": 0,
  "metadata": {
    "colab": {
      "name": "Untitled0.ipynb",
      "provenance": [],
      "authorship_tag": "ABX9TyNyU4pv094IYFrhYVr+eGtc",
      "include_colab_link": true
    },
    "kernelspec": {
      "name": "python3",
      "display_name": "Python 3"
    }
  },
  "cells": [
    {
      "cell_type": "markdown",
      "metadata": {
        "id": "view-in-github",
        "colab_type": "text"
      },
      "source": [
        "<a href=\"https://colab.research.google.com/github/AldoBarrios3110/Codigospropios/blob/main/grafos.ipynb\" target=\"_parent\"><img src=\"https://colab.research.google.com/assets/colab-badge.svg\" alt=\"Open In Colab\"/></a>"
      ]
    },
    {
      "cell_type": "code",
      "metadata": {
        "id": "Vzv8lGIZnyq6"
      },
      "source": [
        "class Grafo:\n",
        "    def __init__(self):\n",
        "        self.vertices = []\n",
        "        self.matriz = [[None]*0 for i in range(0)]\n",
        "\n",
        "    def estaV(self, v):\n",
        "        if self.vertices.count(v) == 0:\n",
        "            return False\n",
        "        return True\n",
        "\n",
        "    def agregarV(self, v):\n",
        "        if self.estaV(v):\n",
        "            return print(\"El vertice ya está en la lista\")\n",
        "        # Si no esta contenido.\n",
        "        self.vertices.append(v)\n",
        "        # Redimensiono la matriz .\n",
        "        filas = columnas = len(self.matriz)\n",
        "        matriz_aux = [[None] * (filas+1) for i in range(columnas+1)]\n",
        "        # Recorro la matriz y copio su contenido dentro de la matriz más grande.\n",
        "        for f in range(filas):\n",
        "            for c in range(columnas):\n",
        "                matriz_aux[f][c] = self.matriz[f][c]\n",
        "        # Igualo la matriz a la matriz más grande.\n",
        "        self.matriz = matriz_aux\n",
        "        return True\n",
        "\n",
        "    def agregarA(self, inicio, fin, valor):\n",
        "        if not(self.estaV(inicio)) or not(self.estaV(fin)):\n",
        "            return print(\"No están los vertices\")\n",
        "        # Si estan los vertices, se grega un valor de arista\n",
        "        self.matriz[self.vertices.index(inicio)][self.vertices.index(fin)] = valor\n",
        "\n",
        "\n",
        "    def imprimir_matriz(self, m):\n",
        "        cadena = \"\"\n",
        "\n",
        "        for c in range(len(m)):\n",
        "            cadena += \"\\t\" + str(self.vertices[c])\n",
        "        cadena += \"\\n \" + (\"  __\" * len(m))\n",
        "\n",
        "        for f in range(len(m)):\n",
        "            cadena += \"\\n\" + str(self.vertices[f]) + \" |\"\n",
        "            for c in range(len(m)):\n",
        "                if f == c and (m[f][c] is None or m[f][c] == 0):\n",
        "                    cadena += \"\\t\" + \"0\"\n",
        "                else:\n",
        "                    if m[f][c] is None:\n",
        "                         cadena += \"\\t\" + \"0\"\n",
        "                    else:\n",
        "                        cadena += \"\\t\" + str(m[f][c])\n",
        "\n",
        "        cadena += \"\\n\"\n",
        "        print(cadena)\n",
        "\n",
        "grafo1 = Grafo()\n",
        "\n",
        "archivo = open('C:\\\\Users\\\\Aldo\\\\Documents\\\\grafo.csv', \"rt\", encoding=\"latin1\")\n",
        "data=archivo.readlines()\n",
        "letras=list('ABCDEFGHIJKLMNOPQRSTUVWXYZ')\n",
        "lista1=[]\n",
        "\n",
        "#Acomodo el contenido en forma de lista\n",
        "for i in data:\n",
        "  lista1.append(i.split())\n",
        "print(lista1)\n",
        "lista1.pop(0)\n",
        "#Evaluar los terminos iniciales de cada elemento y se ghacen vertices\n",
        "for i in range(len(lista1)):\n",
        "        if list(lista1[i][0])[0] in letras:\n",
        "            grafo1.agregarV(list(lista1[i][0])[0])\n",
        "#Evaluar los terminos restantes para declarar la arista\n",
        "for i in range(len(lista1)):\n",
        "    grafo1.agregarA(list(lista1[i][0])[2],list(lista1[i][0])[4],list(lista1[i][0])[6])\n",
        "\n",
        "grafo1.imprimir_matriz(grafo1.matriz)"
      ],
      "execution_count": null,
      "outputs": []
    }
  ]
}